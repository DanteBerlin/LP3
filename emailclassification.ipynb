{
 "cells": [
  {
   "cell_type": "code",
   "execution_count": 1,
   "id": "6d0a814b-2111-44a3-bae3-f3e5ce5e7aec",
   "metadata": {},
   "outputs": [],
   "source": [
    "import pandas as pd"
   ]
  },
  {
   "cell_type": "code",
   "execution_count": 2,
   "id": "a3026d28-7064-4294-89ee-7928a26784be",
   "metadata": {},
   "outputs": [],
   "source": [
    "df = pd.read_csv('emails.csv')"
   ]
  },
  {
   "cell_type": "code",
   "execution_count": 3,
   "id": "30e11346-786e-4fb6-b941-d43cd0a72b53",
   "metadata": {},
   "outputs": [
    {
     "name": "stdout",
     "output_type": "stream",
     "text": [
      "<class 'pandas.core.frame.DataFrame'>\n",
      "RangeIndex: 5172 entries, 0 to 5171\n",
      "Columns: 3002 entries, Email No. to Prediction\n",
      "dtypes: int64(3001), object(1)\n",
      "memory usage: 118.5+ MB\n"
     ]
    }
   ],
   "source": [
    "df.info()"
   ]
  },
  {
   "cell_type": "code",
   "execution_count": 4,
   "id": "033f0e7a-dfd9-4a73-ab7e-e43d4d47b051",
   "metadata": {},
   "outputs": [
    {
     "data": {
      "text/plain": [
       "0"
      ]
     },
     "execution_count": 4,
     "metadata": {},
     "output_type": "execute_result"
    }
   ],
   "source": [
    "df.duplicated().sum()\n"
   ]
  },
  {
   "cell_type": "code",
   "execution_count": 5,
   "id": "56ac2b96-328b-4200-99fa-4b1fdefe91d0",
   "metadata": {},
   "outputs": [],
   "source": [
    "df = df.dropna()"
   ]
  },
  {
   "cell_type": "code",
   "execution_count": 6,
   "id": "90a00e58-d247-4193-9190-f00b4b8d7caf",
   "metadata": {},
   "outputs": [
    {
     "data": {
      "text/plain": [
       "Prediction\n",
       "0    3672\n",
       "1    1500\n",
       "Name: count, dtype: int64"
      ]
     },
     "execution_count": 6,
     "metadata": {},
     "output_type": "execute_result"
    }
   ],
   "source": [
    "df['Prediction'].value_counts()"
   ]
  },
  {
   "cell_type": "code",
   "execution_count": 7,
   "id": "733faadc-90e5-49f7-a868-4118d2c3b81d",
   "metadata": {},
   "outputs": [],
   "source": [
    "from nltk.corpus import stopwords\n",
    "st_words = stopwords.words('english')"
   ]
  },
  {
   "cell_type": "code",
   "execution_count": 8,
   "id": "664a4234-79b9-4171-a2c6-b7d5f3c8937c",
   "metadata": {},
   "outputs": [],
   "source": [
    "df = df[[word for word in df.columns if word.lower() not in st_words]]  # removed stop words"
   ]
  },
  {
   "cell_type": "code",
   "execution_count": 9,
   "id": "e097ae7d-0e39-41bd-aa34-1d07ad0fae40",
   "metadata": {},
   "outputs": [],
   "source": [
    "df = df.drop(columns = ['Email No.'])"
   ]
  },
  {
   "cell_type": "code",
   "execution_count": 10,
   "id": "6e42341c-af21-4b35-9251-f888d966c599",
   "metadata": {},
   "outputs": [],
   "source": [
    "x = df.drop(columns = ['Prediction'])\n",
    "y = df['Prediction']"
   ]
  },
  {
   "cell_type": "code",
   "execution_count": 11,
   "id": "44179ed5-4bbf-4d0e-8e24-61df40661d2c",
   "metadata": {},
   "outputs": [],
   "source": [
    "from sklearn.model_selection import train_test_split\n",
    "x_train,x_test,y_train,y_test = train_test_split(x,y,test_size=0.2,random_state=42)"
   ]
  },
  {
   "cell_type": "code",
   "execution_count": 12,
   "id": "820e8972-5264-4242-9940-33bca5b6abf9",
   "metadata": {},
   "outputs": [],
   "source": [
    "from sklearn.neighbors import KNeighborsClassifier\n",
    "from sklearn.svm import SVC\n"
   ]
  },
  {
   "cell_type": "code",
   "execution_count": 13,
   "id": "d41bb8a2-8934-4100-bf11-954e686e9fda",
   "metadata": {},
   "outputs": [],
   "source": [
    "knn = KNeighborsClassifier()\n",
    "knn.fit(x_train,y_train)\n",
    "pred = knn.predict(x_test)"
   ]
  },
  {
   "cell_type": "code",
   "execution_count": 14,
   "id": "5e100e93-7a9a-4904-af11-9f343f91e225",
   "metadata": {},
   "outputs": [],
   "source": [
    "from sklearn.metrics import accuracy_score,confusion_matrix,precision_score,recall_score,f1_score"
   ]
  },
  {
   "cell_type": "code",
   "execution_count": 15,
   "id": "2955b09f-8182-4ad0-ada9-f8d76b747f36",
   "metadata": {},
   "outputs": [
    {
     "name": "stdout",
     "output_type": "stream",
     "text": [
      "Accuracy score :  0.863768115942029\n",
      "Precison score :  0.7044854881266491\n",
      "F1 score :  0.7911111111111111\n"
     ]
    }
   ],
   "source": [
    "print('Accuracy score : ',accuracy_score(y_test,pred))\n",
    "print('Precison score : ',precision_score(y_test,pred))\n",
    "print('F1 score : ',f1_score(y_test,pred))"
   ]
  },
  {
   "cell_type": "code",
   "execution_count": 16,
   "id": "738311ff-c33a-43a7-9f1d-767967dddecb",
   "metadata": {},
   "outputs": [
    {
     "data": {
      "text/plain": [
       "array([[627, 112],\n",
       "       [ 29, 267]], dtype=int64)"
      ]
     },
     "execution_count": 16,
     "metadata": {},
     "output_type": "execute_result"
    }
   ],
   "source": [
    "confusion_matrix(y_test,pred)"
   ]
  },
  {
   "cell_type": "code",
   "execution_count": 17,
   "id": "91029bcf-ca73-4429-94b2-58cf6227dc68",
   "metadata": {},
   "outputs": [],
   "source": [
    "svc = SVC()\n",
    "svc.fit(x_train,y_train)\n",
    "pred = svc.predict(x_test)"
   ]
  },
  {
   "cell_type": "code",
   "execution_count": 18,
   "id": "b181aa6a-dddb-46a2-9c56-d95a5bfe75fd",
   "metadata": {},
   "outputs": [
    {
     "name": "stdout",
     "output_type": "stream",
     "text": [
      "Accuracy score :  0.8164251207729468\n",
      "Precison score :  0.9076923076923077\n",
      "F1 score :  0.5539906103286385\n"
     ]
    }
   ],
   "source": [
    "print('Accuracy score : ',accuracy_score(y_test,pred))\n",
    "print('Precison score : ',precision_score(y_test,pred))\n",
    "print('F1 score : ',f1_score(y_test,pred))"
   ]
  },
  {
   "cell_type": "code",
   "execution_count": 19,
   "id": "356036f3-014f-410b-a524-368d720e8323",
   "metadata": {},
   "outputs": [
    {
     "data": {
      "text/plain": [
       "array([[727,  12],\n",
       "       [178, 118]], dtype=int64)"
      ]
     },
     "execution_count": 19,
     "metadata": {},
     "output_type": "execute_result"
    }
   ],
   "source": [
    "confusion_matrix(y_test,pred)"
   ]
  },
  {
   "cell_type": "code",
   "execution_count": 20,
   "id": "53f9984b-d1f7-46f7-88fc-00d8a4d46e96",
   "metadata": {},
   "outputs": [
    {
     "data": {
      "text/plain": [
       "Prediction\n",
       "0    739\n",
       "1    296\n",
       "Name: count, dtype: int64"
      ]
     },
     "execution_count": 20,
     "metadata": {},
     "output_type": "execute_result"
    }
   ],
   "source": [
    "y_test.value_counts()"
   ]
  },
  {
   "cell_type": "code",
   "execution_count": null,
   "id": "97e221bb-fbf8-4fe4-851d-fd9bfd21f729",
   "metadata": {},
   "outputs": [],
   "source": []
  }
 ],
 "metadata": {
  "kernelspec": {
   "display_name": "Python 3 (ipykernel)",
   "language": "python",
   "name": "python3"
  },
  "language_info": {
   "codemirror_mode": {
    "name": "ipython",
    "version": 3
   },
   "file_extension": ".py",
   "mimetype": "text/x-python",
   "name": "python",
   "nbconvert_exporter": "python",
   "pygments_lexer": "ipython3",
   "version": "3.10.2"
  }
 },
 "nbformat": 4,
 "nbformat_minor": 5
}
